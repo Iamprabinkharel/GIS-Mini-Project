{
 "cells": [
  {
   "cell_type": "code",
   "execution_count": 11,
   "id": "c455c539-7ad1-4d0c-a2df-66077385f101",
   "metadata": {},
   "outputs": [],
   "source": [
    "#Import libraries\n",
    "import os #Operating System interactions\n",
    "import pandas as pd #Panel Data - for working with tabular data\n",
    "import geopandas as gp # for GIS analysis or Geo Processing\n",
    "from shapely.geometry import Point #Allows you to vreate gpkg files from xy data\n",
    "import numpy as np #Numerical Calc\n",
    "from matplotlib import pyplot as plt \n",
    "import matplotlib_map_utils as mapu #Alias of Map Utils like 'plt' for plot. For North Arrow."
   ]
  },
  {
   "cell_type": "code",
   "execution_count": 12,
   "id": "82577a40-d07a-46f2-b945-685a88887ce4",
   "metadata": {},
   "outputs": [],
   "source": [
    "#Set the directories\n",
    "path = 'D:\\\\TEXAS BRIDGE DATA'\n",
    "os.chdir(path) #Change the directory to that path"
   ]
  },
  {
   "cell_type": "code",
   "execution_count": 13,
   "id": "9afbddef-e8ab-4277-b5b2-69bbd341f7a2",
   "metadata": {},
   "outputs": [
    {
     "data": {
      "text/html": [
       "<div>\n",
       "<style scoped>\n",
       "    .dataframe tbody tr th:only-of-type {\n",
       "        vertical-align: middle;\n",
       "    }\n",
       "\n",
       "    .dataframe tbody tr th {\n",
       "        vertical-align: top;\n",
       "    }\n",
       "\n",
       "    .dataframe thead th {\n",
       "        text-align: right;\n",
       "    }\n",
       "</style>\n",
       "<table border=\"1\" class=\"dataframe\">\n",
       "  <thead>\n",
       "    <tr style=\"text-align: right;\">\n",
       "      <th></th>\n",
       "      <th>field_1</th>\n",
       "      <th>STATE_CODE_001</th>\n",
       "      <th>STRUCTURE_NUMBER_008</th>\n",
       "      <th>RECORD_TYPE_005A</th>\n",
       "      <th>ROUTE_PREFIX_005B</th>\n",
       "      <th>SERVICE_LEVEL_005C</th>\n",
       "      <th>ROUTE_NUMBER_005D</th>\n",
       "      <th>DIRECTION_005E</th>\n",
       "      <th>HIGHWAY_DISTRICT_002</th>\n",
       "      <th>COUNTY_CODE_003</th>\n",
       "      <th>...</th>\n",
       "      <th>BRIDGE_LEN_IND_112</th>\n",
       "      <th>SCOUR_CRITICAL_113</th>\n",
       "      <th>FUTURE_ADT_114</th>\n",
       "      <th>YEAR_OF_FUTURE_ADT_115</th>\n",
       "      <th>MIN_NAV_CLR_MT_116</th>\n",
       "      <th>FED_AGENCY</th>\n",
       "      <th>SUBMITTED_BY</th>\n",
       "      <th>BRIDGE_CONDITION</th>\n",
       "      <th>LOWEST_RATING</th>\n",
       "      <th>DECK_AREA</th>\n",
       "    </tr>\n",
       "  </thead>\n",
       "  <tbody>\n",
       "    <tr>\n",
       "      <th>0</th>\n",
       "      <td>9</td>\n",
       "      <td>48</td>\n",
       "      <td>000021594-62610</td>\n",
       "      <td>1</td>\n",
       "      <td>6</td>\n",
       "      <td>0</td>\n",
       "      <td>0</td>\n",
       "      <td>0</td>\n",
       "      <td>2</td>\n",
       "      <td>203</td>\n",
       "      <td>...</td>\n",
       "      <td>Y</td>\n",
       "      <td>8</td>\n",
       "      <td>15</td>\n",
       "      <td>2041</td>\n",
       "      <td></td>\n",
       "      <td>Y</td>\n",
       "      <td>63</td>\n",
       "      <td>G</td>\n",
       "      <td>8</td>\n",
       "      <td>127.98</td>\n",
       "    </tr>\n",
       "    <tr>\n",
       "      <th>1</th>\n",
       "      <td>17</td>\n",
       "      <td>48</td>\n",
       "      <td>1E+13</td>\n",
       "      <td>1</td>\n",
       "      <td>6</td>\n",
       "      <td>0</td>\n",
       "      <td>217</td>\n",
       "      <td>0</td>\n",
       "      <td>17</td>\n",
       "      <td>407</td>\n",
       "      <td>...</td>\n",
       "      <td>Y</td>\n",
       "      <td>5</td>\n",
       "      <td>150</td>\n",
       "      <td>2043</td>\n",
       "      <td>0.0</td>\n",
       "      <td>Y</td>\n",
       "      <td>64</td>\n",
       "      <td>G</td>\n",
       "      <td>8</td>\n",
       "      <td>144.57</td>\n",
       "    </tr>\n",
       "    <tr>\n",
       "      <th>2</th>\n",
       "      <td>54</td>\n",
       "      <td>48</td>\n",
       "      <td>1.06001E+13</td>\n",
       "      <td>1</td>\n",
       "      <td>3</td>\n",
       "      <td>1</td>\n",
       "      <td>19</td>\n",
       "      <td>0</td>\n",
       "      <td>1</td>\n",
       "      <td>119</td>\n",
       "      <td>...</td>\n",
       "      <td>Y</td>\n",
       "      <td>8</td>\n",
       "      <td>4740</td>\n",
       "      <td>2033</td>\n",
       "      <td></td>\n",
       "      <td>N</td>\n",
       "      <td>48</td>\n",
       "      <td>F</td>\n",
       "      <td>5</td>\n",
       "      <td>109.88</td>\n",
       "    </tr>\n",
       "    <tr>\n",
       "      <th>3</th>\n",
       "      <td>55</td>\n",
       "      <td>48</td>\n",
       "      <td>1.06001E+13</td>\n",
       "      <td>1</td>\n",
       "      <td>3</td>\n",
       "      <td>1</td>\n",
       "      <td>19</td>\n",
       "      <td>0</td>\n",
       "      <td>1</td>\n",
       "      <td>119</td>\n",
       "      <td>...</td>\n",
       "      <td>Y</td>\n",
       "      <td>8</td>\n",
       "      <td>3500</td>\n",
       "      <td>2030</td>\n",
       "      <td></td>\n",
       "      <td>N</td>\n",
       "      <td>48</td>\n",
       "      <td>G</td>\n",
       "      <td>7</td>\n",
       "      <td>1279.6</td>\n",
       "    </tr>\n",
       "    <tr>\n",
       "      <th>4</th>\n",
       "      <td>56</td>\n",
       "      <td>48</td>\n",
       "      <td>1.06001E+13</td>\n",
       "      <td>1</td>\n",
       "      <td>3</td>\n",
       "      <td>1</td>\n",
       "      <td>128</td>\n",
       "      <td>0</td>\n",
       "      <td>1</td>\n",
       "      <td>119</td>\n",
       "      <td>...</td>\n",
       "      <td>Y</td>\n",
       "      <td>8</td>\n",
       "      <td>150</td>\n",
       "      <td>2033</td>\n",
       "      <td></td>\n",
       "      <td>N</td>\n",
       "      <td>48</td>\n",
       "      <td>G</td>\n",
       "      <td>7</td>\n",
       "      <td>80.4</td>\n",
       "    </tr>\n",
       "  </tbody>\n",
       "</table>\n",
       "<p>5 rows × 124 columns</p>\n",
       "</div>"
      ],
      "text/plain": [
       "  field_1 STATE_CODE_001 STRUCTURE_NUMBER_008 RECORD_TYPE_005A  \\\n",
       "0       9             48      000021594-62610                1   \n",
       "1      17             48                1E+13                1   \n",
       "2      54             48          1.06001E+13                1   \n",
       "3      55             48          1.06001E+13                1   \n",
       "4      56             48          1.06001E+13                1   \n",
       "\n",
       "  ROUTE_PREFIX_005B SERVICE_LEVEL_005C ROUTE_NUMBER_005D DIRECTION_005E  \\\n",
       "0                 6                  0                 0              0   \n",
       "1                 6                  0               217              0   \n",
       "2                 3                  1                19              0   \n",
       "3                 3                  1                19              0   \n",
       "4                 3                  1               128              0   \n",
       "\n",
       "  HIGHWAY_DISTRICT_002 COUNTY_CODE_003  ... BRIDGE_LEN_IND_112  \\\n",
       "0                    2             203  ...                  Y   \n",
       "1                   17             407  ...                  Y   \n",
       "2                    1             119  ...                  Y   \n",
       "3                    1             119  ...                  Y   \n",
       "4                    1             119  ...                  Y   \n",
       "\n",
       "  SCOUR_CRITICAL_113 FUTURE_ADT_114 YEAR_OF_FUTURE_ADT_115 MIN_NAV_CLR_MT_116  \\\n",
       "0                  8             15                   2041                      \n",
       "1                  5            150                   2043                0.0   \n",
       "2                  8           4740                   2033                      \n",
       "3                  8           3500                   2030                      \n",
       "4                  8            150                   2033                      \n",
       "\n",
       "  FED_AGENCY SUBMITTED_BY BRIDGE_CONDITION LOWEST_RATING DECK_AREA  \n",
       "0          Y           63                G             8    127.98  \n",
       "1          Y           64                G             8    144.57  \n",
       "2          N           48                F             5    109.88  \n",
       "3          N           48                G             7    1279.6  \n",
       "4          N           48                G             7      80.4  \n",
       "\n",
       "[5 rows x 124 columns]"
      ]
     },
     "execution_count": 13,
     "metadata": {},
     "output_type": "execute_result"
    }
   ],
   "source": [
    "fname1 = 'NEWTX23.csv'\n",
    "fname2 = 'COUNTY.gpkg'\n",
    "#Read the geopackage file (both PW and CONUS contents) into an object called pw & conus. \"gp.\" Tells us that we want the geopackage fuction in the Geopandas library.\n",
    "pw = gp.read_file(fname1)\n",
    "conus = gp.read_file(fname2)\n",
    "pw.head() #With parenthesis it's a method, without it's a feature. Head = top 5 values for display, tail = bottom 5 values for display."
   ]
  },
  {
   "cell_type": "code",
   "execution_count": null,
   "id": "de7f7eb8-eb26-4372-a57a-23da2668a01f",
   "metadata": {},
   "outputs": [],
   "source": []
  },
  {
   "cell_type": "code",
   "execution_count": null,
   "id": "c7cdec68-ba1d-4c15-a76f-15c766feadc9",
   "metadata": {},
   "outputs": [],
   "source": [
    "type(pw) # Tells us the object class"
   ]
  },
  {
   "cell_type": "code",
   "execution_count": 14,
   "id": "0f53b4d8-7b38-4eca-8e9e-b673e0b00bf7",
   "metadata": {},
   "outputs": [
    {
     "name": "stderr",
     "output_type": "stream",
     "text": [
      "C:\\Users\\Prabin-PC\\AppData\\Local\\Temp\\ipykernel_23860\\553332383.py:26: DtypeWarning: Columns (6,76,97,103) have mixed types. Specify dtype option on import or set low_memory=False.\n",
      "  df = pd.read_csv(fname)\n"
     ]
    },
    {
     "name": "stdout",
     "output_type": "stream",
     "text": [
      "LAT_016 and LONG_017 converted to decimal degrees and saved to NEWTX23.csv\n"
     ]
    }
   ],
   "source": [
    "import pandas as pd\n",
    "\n",
    "# Function to convert DMS to decimal degrees, with error handling\n",
    "def dms_to_dd(dms):\n",
    "    if isinstance(dms, str):  # Only process if the value is a string\n",
    "        # Split the string into degrees, minutes, and seconds\n",
    "        parts = dms.split()\n",
    "        degrees = float(parts[0])\n",
    "        minutes = float(parts[1])\n",
    "        seconds = float(parts[2])\n",
    "\n",
    "        # Convert to decimal degrees\n",
    "        dd = degrees + minutes / 60 + seconds / 360000\n",
    "\n",
    "        # If the degrees value is negative, make sure to return a negative decimal\n",
    "        if degrees < 0:\n",
    "            dd = -abs(dd)\n",
    "        \n",
    "        return dd\n",
    "    else:\n",
    "        # Return the value directly if it's not a string (e.g., already in decimal)\n",
    "        return dms\n",
    "\n",
    "# Load the CSV file\n",
    "fname = 'NEWTX23.csv'\n",
    "df = pd.read_csv(fname)\n",
    "\n",
    "# Convert LAT_016 and LONG_017 from DMS to decimal degrees (if they are in DMS format)\n",
    "df['LAT_016'] = df['LAT_016'].apply(dms_to_dd)\n",
    "df['LONG_017'] = df['LONG_017'].apply(dms_to_dd)\n",
    "\n",
    "# Save the updated DataFrame to a new CSV file with the specified name\n",
    "output_fname = 'NEWTX23.csv'\n",
    "df.to_csv(output_fname, index=False)\n",
    "\n",
    "print(f\"LAT_016 and LONG_017 converted to decimal degrees and saved to {output_fname}\")\n"
   ]
  },
  {
   "cell_type": "code",
   "execution_count": 16,
   "id": "251f3cf5-cb56-459c-b92b-6812690302b3",
   "metadata": {},
   "outputs": [
    {
     "name": "stdout",
     "output_type": "stream",
     "text": [
      "CRS changed to WGS 84 and saved to: output_reprojected.gpkg\n"
     ]
    }
   ],
   "source": [
    "import geopandas as gp\n",
    "\n",
    "fname1 = 'NEWTX23.csv'\n",
    "fname2 = 'COUNTY.gpkg'\n",
    "output_gpkg = 'output_reprojected.gpkg'\n",
    "\n",
    "# Read the files into objects\n",
    "pw = gp.read_file(fname1)\n",
    "conus = gp.read_file(fname2)\n",
    "\n",
    "# Display the top 5 rows of pw\n",
    "pw.head()\n",
    "\n",
    "# Reproject conus GeoDataFrame to WGS 84 (EPSG:4326)\n",
    "conus = conus.to_crs(epsg=4326)\n",
    "\n",
    "# Save the reprojected GeoDataFrame to a new GPKG file\n",
    "conus.to_file(output_gpkg, driver=\"GPKG\")\n",
    "\n",
    "print(\"CRS changed to WGS 84 and saved to:\", output_gpkg)\n"
   ]
  },
  {
   "cell_type": "code",
   "execution_count": 17,
   "id": "8403d42e-22d8-4f76-9840-daa3eacc0c7d",
   "metadata": {},
   "outputs": [
    {
     "name": "stderr",
     "output_type": "stream",
     "text": [
      "C:\\Users\\Prabin-PC\\AppData\\Local\\Temp\\ipykernel_23860\\2893751708.py:6: DtypeWarning: Columns (6,76,97,103) have mixed types. Specify dtype option on import or set low_memory=False.\n",
      "  df = pd.read_csv(fname)\n"
     ]
    },
    {
     "name": "stdout",
     "output_type": "stream",
     "text": [
      "Data transformed to NAD83 and saved to NEWTX23.gpkg\n"
     ]
    }
   ],
   "source": [
    "import pandas as pd\n",
    "import geopandas as gpd\n",
    "\n",
    "# Load the CSV file into a DataFrame\n",
    "fname = 'NEWTX23.csv'\n",
    "df = pd.read_csv(fname)\n",
    "\n",
    "# Assuming your latitude and longitude columns are 'LAT' and 'LONG', create a GeoDataFrame\n",
    "geometry = gpd.points_from_xy(df['LONG_017'], df['LAT_016'])  # Replace with correct column names\n",
    "gdf = gpd.GeoDataFrame(df, geometry=geometry)\n",
    "\n",
    "# Set the original CRS if known (for example, WGS 84)\n",
    "gdf.set_crs(epsg=4326, inplace=True)  # WGS 84 is EPSG:4326\n",
    "\n",
    "# Convert to NAD83 (EPSG:4269)\n",
    "gdf_nad83 = gdf.to_crs(epsg=4269)\n",
    "\n",
    "# Save the updated GeoDataFrame to a new file if needed\n",
    "output_fname = 'NEWTX23.gpkg'\n",
    "gdf_nad83.to_file(output_fname, driver='GPKG')\n",
    "\n",
    "print(f\"Data transformed to NAD83 and saved to {output_fname}\")\n"
   ]
  },
  {
   "cell_type": "code",
   "execution_count": 9,
   "id": "b3f0f0ca-9e37-456f-bb2c-0da34ca9b774",
   "metadata": {},
   "outputs": [
    {
     "name": "stdout",
     "output_type": "stream",
     "text": [
      "['COUNTY.gpkg', 'NEWTX22.csv', 'NEWTX22csv', 'NEWTX23.csv', 'NEWTX23.gpkg', 'NEWTX23_nad83.gpkg', 'NEWTX23_updated.csv', 'output_data.gpkg', 'output_reprojected.gpkg', 'selected_columns_data.csv', 'selected_columns_data2.csv', 'selected_data.csv', 'TEXAS23DATA.csv', 'TEXAS23DATA_nad83.gpkg', 'TX22.csv', 'TX23.csv']\n"
     ]
    }
   ],
   "source": [
    "import os\n",
    "\n",
    "# List files in the current directory\n",
    "print(os.listdir('.'))\n",
    "\n"
   ]
  },
  {
   "cell_type": "code",
   "execution_count": 18,
   "id": "e7e40710-33b3-4704-aff8-fa0e7ce1b804",
   "metadata": {},
   "outputs": [
    {
     "ename": "ValueError",
     "evalue": "aspect must be finite and positive ",
     "output_type": "error",
     "traceback": [
      "\u001b[1;31m---------------------------------------------------------------------------\u001b[0m",
      "\u001b[1;31mValueError\u001b[0m                                Traceback (most recent call last)",
      "Cell \u001b[1;32mIn[18], line 11\u001b[0m\n\u001b[0;32m      9\u001b[0m ax1 \u001b[38;5;241m=\u001b[39m fig\u001b[38;5;241m.\u001b[39madd_subplot() \u001b[38;5;66;03m#we have multiple layers being added, so when we have to plot multiple layers on the plot, we need to make sure all of them are plotted on the same axis.\u001b[39;00m\n\u001b[0;32m     10\u001b[0m conus\u001b[38;5;241m.\u001b[39mplot (facecolor\u001b[38;5;241m=\u001b[39m\u001b[38;5;124m'\u001b[39m\u001b[38;5;124mnone\u001b[39m\u001b[38;5;124m'\u001b[39m, edgecolor\u001b[38;5;241m=\u001b[39m\u001b[38;5;124m'\u001b[39m\u001b[38;5;124mblack\u001b[39m\u001b[38;5;124m'\u001b[39m, ax\u001b[38;5;241m=\u001b[39max1) \u001b[38;5;66;03m#ax=ax1 - overlaping axis. \u001b[39;00m\n\u001b[1;32m---> 11\u001b[0m pw\u001b[38;5;241m.\u001b[39mplot(ax\u001b[38;5;241m=\u001b[39max1, color\u001b[38;5;241m=\u001b[39m\u001b[38;5;124m'\u001b[39m\u001b[38;5;124mmagenta\u001b[39m\u001b[38;5;124m'\u001b[39m, markersize\u001b[38;5;241m=\u001b[39m\u001b[38;5;241m1\u001b[39m)\n\u001b[0;32m     12\u001b[0m mapu\u001b[38;5;241m.\u001b[39mnorth_arrow\u001b[38;5;241m.\u001b[39mnorth_arrow(ax\u001b[38;5;241m=\u001b[39max1, location\u001b[38;5;241m=\u001b[39m\u001b[38;5;124m'\u001b[39m\u001b[38;5;124mlower right\u001b[39m\u001b[38;5;124m'\u001b[39m, rotation\u001b[38;5;241m=\u001b[39m{\u001b[38;5;124m'\u001b[39m\u001b[38;5;124mdegrees\u001b[39m\u001b[38;5;124m'\u001b[39m:\u001b[38;5;241m0\u001b[39m}) \n\u001b[0;32m     13\u001b[0m ax1\u001b[38;5;241m.\u001b[39mset_xlabel(\u001b[38;5;124m'\u001b[39m\u001b[38;5;124mLongitude (NAD 83)\u001b[39m\u001b[38;5;124m'\u001b[39m)\n",
      "File \u001b[1;32m~\\anaconda3\\Lib\\site-packages\\geopandas\\plotting.py:968\u001b[0m, in \u001b[0;36mGeoplotAccessor.__call__\u001b[1;34m(self, *args, **kwargs)\u001b[0m\n\u001b[0;32m    966\u001b[0m kind \u001b[38;5;241m=\u001b[39m kwargs\u001b[38;5;241m.\u001b[39mpop(\u001b[38;5;124m\"\u001b[39m\u001b[38;5;124mkind\u001b[39m\u001b[38;5;124m\"\u001b[39m, \u001b[38;5;124m\"\u001b[39m\u001b[38;5;124mgeo\u001b[39m\u001b[38;5;124m\"\u001b[39m)\n\u001b[0;32m    967\u001b[0m \u001b[38;5;28;01mif\u001b[39;00m kind \u001b[38;5;241m==\u001b[39m \u001b[38;5;124m\"\u001b[39m\u001b[38;5;124mgeo\u001b[39m\u001b[38;5;124m\"\u001b[39m:\n\u001b[1;32m--> 968\u001b[0m     \u001b[38;5;28;01mreturn\u001b[39;00m plot_dataframe(data, \u001b[38;5;241m*\u001b[39margs, \u001b[38;5;241m*\u001b[39m\u001b[38;5;241m*\u001b[39mkwargs)\n\u001b[0;32m    969\u001b[0m \u001b[38;5;28;01mif\u001b[39;00m kind \u001b[38;5;129;01min\u001b[39;00m \u001b[38;5;28mself\u001b[39m\u001b[38;5;241m.\u001b[39m_pandas_kinds:\n\u001b[0;32m    970\u001b[0m     \u001b[38;5;66;03m# Access pandas plots\u001b[39;00m\n\u001b[0;32m    971\u001b[0m     \u001b[38;5;28;01mreturn\u001b[39;00m PlotAccessor(data)(kind\u001b[38;5;241m=\u001b[39mkind, \u001b[38;5;241m*\u001b[39m\u001b[38;5;241m*\u001b[39mkwargs)\n",
      "File \u001b[1;32m~\\anaconda3\\Lib\\site-packages\\geopandas\\plotting.py:664\u001b[0m, in \u001b[0;36mplot_dataframe\u001b[1;34m(df, column, cmap, color, ax, cax, categorical, legend, scheme, k, vmin, vmax, markersize, figsize, legend_kwds, categories, classification_kwds, missing_kwds, aspect, autolim, **style_kwds)\u001b[0m\n\u001b[0;32m    662\u001b[0m     bounds \u001b[38;5;241m=\u001b[39m df\u001b[38;5;241m.\u001b[39mtotal_bounds\n\u001b[0;32m    663\u001b[0m     y_coord \u001b[38;5;241m=\u001b[39m np\u001b[38;5;241m.\u001b[39mmean([bounds[\u001b[38;5;241m1\u001b[39m], bounds[\u001b[38;5;241m3\u001b[39m]])\n\u001b[1;32m--> 664\u001b[0m     ax\u001b[38;5;241m.\u001b[39mset_aspect(\u001b[38;5;241m1\u001b[39m \u001b[38;5;241m/\u001b[39m np\u001b[38;5;241m.\u001b[39mcos(y_coord \u001b[38;5;241m*\u001b[39m np\u001b[38;5;241m.\u001b[39mpi \u001b[38;5;241m/\u001b[39m \u001b[38;5;241m180\u001b[39m))\n\u001b[0;32m    665\u001b[0m     \u001b[38;5;66;03m# formula ported from R package sp\u001b[39;00m\n\u001b[0;32m    666\u001b[0m     \u001b[38;5;66;03m# https://github.com/edzer/sp/blob/master/R/mapasp.R\u001b[39;00m\n\u001b[0;32m    667\u001b[0m \u001b[38;5;28;01melse\u001b[39;00m:\n\u001b[0;32m    668\u001b[0m     ax\u001b[38;5;241m.\u001b[39mset_aspect(\u001b[38;5;124m\"\u001b[39m\u001b[38;5;124mequal\u001b[39m\u001b[38;5;124m\"\u001b[39m)\n",
      "File \u001b[1;32m~\\anaconda3\\Lib\\site-packages\\matplotlib\\axes\\_base.py:1667\u001b[0m, in \u001b[0;36m_AxesBase.set_aspect\u001b[1;34m(self, aspect, adjustable, anchor, share)\u001b[0m\n\u001b[0;32m   1665\u001b[0m     aspect \u001b[38;5;241m=\u001b[39m \u001b[38;5;28mfloat\u001b[39m(aspect)  \u001b[38;5;66;03m# raise ValueError if necessary\u001b[39;00m\n\u001b[0;32m   1666\u001b[0m     \u001b[38;5;28;01mif\u001b[39;00m aspect \u001b[38;5;241m<\u001b[39m\u001b[38;5;241m=\u001b[39m \u001b[38;5;241m0\u001b[39m \u001b[38;5;129;01mor\u001b[39;00m \u001b[38;5;129;01mnot\u001b[39;00m np\u001b[38;5;241m.\u001b[39misfinite(aspect):\n\u001b[1;32m-> 1667\u001b[0m         \u001b[38;5;28;01mraise\u001b[39;00m \u001b[38;5;167;01mValueError\u001b[39;00m(\u001b[38;5;124m\"\u001b[39m\u001b[38;5;124maspect must be finite and positive \u001b[39m\u001b[38;5;124m\"\u001b[39m)\n\u001b[0;32m   1669\u001b[0m \u001b[38;5;28;01mif\u001b[39;00m share:\n\u001b[0;32m   1670\u001b[0m     axes \u001b[38;5;241m=\u001b[39m {sibling \u001b[38;5;28;01mfor\u001b[39;00m name \u001b[38;5;129;01min\u001b[39;00m \u001b[38;5;28mself\u001b[39m\u001b[38;5;241m.\u001b[39m_axis_names\n\u001b[0;32m   1671\u001b[0m             \u001b[38;5;28;01mfor\u001b[39;00m sibling \u001b[38;5;129;01min\u001b[39;00m \u001b[38;5;28mself\u001b[39m\u001b[38;5;241m.\u001b[39m_shared_axes[name]\u001b[38;5;241m.\u001b[39mget_siblings(\u001b[38;5;28mself\u001b[39m)}\n",
      "\u001b[1;31mValueError\u001b[0m: aspect must be finite and positive "
     ]
    },
    {
     "data": {
      "image/png": "[encoded data removed]",
      "text/plain": [
       "<Figure size 640x480 with 1 Axes>"
      ]
     },
     "metadata": {},
     "output_type": "display_data"
    }
   ],
   "source": [
    "import geopandas as gpd\n",
    "import matplotlib.pyplot as plt\n",
    "\n",
    "# Load the GeoPackage file into a GeoDataFrame\n",
    "fname = 'TEXAS23DATA_nad83.gpkg'\n",
    "pw = gpd.read_file(fname)\n",
    "\n",
    "fig = plt.figure()\n",
    "ax1 = fig.add_subplot() #we have multiple layers being added, so when we have to plot multiple layers on the plot, we need to make sure all of them are plotted on the same axis.\n",
    "conus.plot (facecolor='none', edgecolor='black', ax=ax1) #ax=ax1 - overlaping axis. \n",
    "pw.plot(ax=ax1, color='magenta', markersize=1)\n",
    "mapu.north_arrow.north_arrow(ax=ax1, location='lower right', rotation={'degrees':0}) \n",
    "ax1.set_xlabel('Longitude (NAD 83)')\n",
    "ax1.set_ylabel('Latitude (NAD 83)')\n",
    "plt.grid()\n",
    "plt.title('Bridges that were surveyed in 2023 but not in 2022')\n",
    "plt.show()\n",
    "\n",
    "   \n"
   ]
  },
  {
   "cell_type": "code",
   "execution_count": null,
   "id": "d173f601-f2e5-4fac-99c8-c5388d3dd9c1",
   "metadata": {},
   "outputs": [],
   "source": []
  }
 ],
 "metadata": {
  "kernelspec": {
   "display_name": "Python 3 (ipykernel)",
   "language": "python",
   "name": "python3"
  },
  "language_info": {
   "codemirror_mode": {
    "name": "ipython",
    "version": 3
   },
   "file_extension": ".py",
   "mimetype": "text/x-python",
   "name": "python",
   "nbconvert_exporter": "python",
   "pygments_lexer": "ipython3",
   "version": "3.12.4"
  }
 },
 "nbformat": 4,
 "nbformat_minor": 5
}
